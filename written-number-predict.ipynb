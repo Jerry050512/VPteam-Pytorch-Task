{
 "cells": [
  {
   "cell_type": "code",
   "execution_count": 7,
   "metadata": {},
   "outputs": [],
   "source": [
    "import os\n",
    "import torch\n",
    "import torch.nn.functional as F\n",
    "import numpy as np\n",
    "import matplotlib.pyplot as plt\n",
    "\n",
    "from torch.utils.data import Dataset, DataLoader\n",
    "from torchvision import transforms\n",
    "from torchvision import datasets\n",
    "from PIL import Image"
   ]
  },
  {
   "cell_type": "markdown",
   "metadata": {},
   "source": [
    "## Task-1 手写数字识别"
   ]
  },
  {
   "cell_type": "markdown",
   "metadata": {},
   "source": [
    "### Step-1 Prepare Dataset"
   ]
  },
  {
   "cell_type": "code",
   "execution_count": 2,
   "metadata": {},
   "outputs": [
    {
     "name": "stdout",
     "output_type": "stream",
     "text": [
      "Downloading http://yann.lecun.com/exdb/mnist/train-images-idx3-ubyte.gz\n",
      "Downloading http://yann.lecun.com/exdb/mnist/train-images-idx3-ubyte.gz to ./dataset/mnist\\MNIST\\raw\\train-images-idx3-ubyte.gz\n"
     ]
    },
    {
     "name": "stderr",
     "output_type": "stream",
     "text": [
      "100.0%\n"
     ]
    },
    {
     "name": "stdout",
     "output_type": "stream",
     "text": [
      "Extracting ./dataset/mnist\\MNIST\\raw\\train-images-idx3-ubyte.gz to ./dataset/mnist\\MNIST\\raw\n",
      "\n",
      "Downloading http://yann.lecun.com/exdb/mnist/train-labels-idx1-ubyte.gz\n",
      "Downloading http://yann.lecun.com/exdb/mnist/train-labels-idx1-ubyte.gz to ./dataset/mnist\\MNIST\\raw\\train-labels-idx1-ubyte.gz\n"
     ]
    },
    {
     "name": "stderr",
     "output_type": "stream",
     "text": [
      "100.0%\n"
     ]
    },
    {
     "name": "stdout",
     "output_type": "stream",
     "text": [
      "Extracting ./dataset/mnist\\MNIST\\raw\\train-labels-idx1-ubyte.gz to ./dataset/mnist\\MNIST\\raw\n",
      "\n",
      "Downloading http://yann.lecun.com/exdb/mnist/t10k-images-idx3-ubyte.gz\n",
      "Downloading http://yann.lecun.com/exdb/mnist/t10k-images-idx3-ubyte.gz to ./dataset/mnist\\MNIST\\raw\\t10k-images-idx3-ubyte.gz\n"
     ]
    },
    {
     "name": "stderr",
     "output_type": "stream",
     "text": [
      "100.0%\n"
     ]
    },
    {
     "name": "stdout",
     "output_type": "stream",
     "text": [
      "Extracting ./dataset/mnist\\MNIST\\raw\\t10k-images-idx3-ubyte.gz to ./dataset/mnist\\MNIST\\raw\n",
      "\n",
      "Downloading http://yann.lecun.com/exdb/mnist/t10k-labels-idx1-ubyte.gz\n",
      "Downloading http://yann.lecun.com/exdb/mnist/t10k-labels-idx1-ubyte.gz to ./dataset/mnist\\MNIST\\raw\\t10k-labels-idx1-ubyte.gz\n"
     ]
    },
    {
     "name": "stderr",
     "output_type": "stream",
     "text": [
      "100.0%"
     ]
    },
    {
     "name": "stdout",
     "output_type": "stream",
     "text": [
      "Extracting ./dataset/mnist\\MNIST\\raw\\t10k-labels-idx1-ubyte.gz to ./dataset/mnist\\MNIST\\raw\n",
      "\n"
     ]
    },
    {
     "name": "stderr",
     "output_type": "stream",
     "text": [
      "\n"
     ]
    }
   ],
   "source": [
    "# 设置批量大小\n",
    "batch_size = 64\n",
    "\n",
    "# 定义数据转换器：首先将图像转换为PyTorch张量，然后进行标准化处理\n",
    "transform = transforms.Compose([\n",
    "    transforms.ToTensor(),                      # 将PIL图像转换为PyTorch张量\n",
    "    transforms.Normalize((0.1307,), (0.3081,))  # 使用平均值和标准差进行标准化处理\n",
    "])\n",
    "\n",
    "# 加载MNIST训练数据集，如果数据不存在则下载，并应用定义的转换器\n",
    "train_dataset = datasets.MNIST(root='./dataset/mnist', train=True, transform=transform, download=True)\n",
    "# 创建训练数据的加载器，以指定的批量大小和是否打乱数据顺序进行配置\n",
    "train_loader = DataLoader(dataset=train_dataset, batch_size=batch_size, shuffle=True)\n",
    "\n",
    "# 加载MNIST测试数据集，同样应用转换器，如果数据不存在则下载\n",
    "test_dataset = datasets.MNIST(root='./dataset/mnist', train=False, transform=transform, download=True)\n",
    "# 创建测试数据的加载器，使用与训练数据不同的配置，例如不需要打乱数据顺序\n",
    "test_loader = DataLoader(dataset=test_dataset, batch_size=batch_size, shuffle=False)"
   ]
  },
  {
   "cell_type": "markdown",
   "metadata": {},
   "source": [
    "### Step-2 Define Model"
   ]
  },
  {
   "cell_type": "code",
   "execution_count": 3,
   "metadata": {},
   "outputs": [],
   "source": [
    "class InceptionA(torch.nn.Module):\n",
    "    \"\"\"\n",
    "    InceptionA模块，为深度神经网络中的一个结构单元，用于处理输入的图像数据。\n",
    "    \n",
    "    参数:\n",
    "    - in_channels: int, 输入图像的通道数\n",
    "    \n",
    "    方法:\n",
    "    - forward: 前向传播方法\n",
    "    \"\"\"\n",
    "    def __init__(self, in_channels):\n",
    "        \"\"\"\n",
    "        初始化InceptionA模块。\n",
    "        \n",
    "        参数:\n",
    "        - in_channels: 输入图像的通道数。\n",
    "        \"\"\"\n",
    "        super().__init__()\n",
    "\n",
    "        # 1x1卷积分支\n",
    "        self.branch1x1 = torch.nn.Conv2d(in_channels, 16, kernel_size=1)\n",
    "\n",
    "        # 1x1卷积 -> 5x5卷积分支\n",
    "        self.branch5x5_1 = torch.nn.Conv2d(in_channels, 16, kernel_size=1)\n",
    "        self.branch5x5_2 = torch.nn.Conv2d(16, 24, kernel_size=5, padding=2)\n",
    "\n",
    "        # 1x1卷积 -> 3x3卷积 -> 3x3卷积分支\n",
    "        self.branch3x3_1 = torch.nn.Conv2d(in_channels, 16, kernel_size=1)\n",
    "        self.branch3x3_2 = torch.nn.Conv2d(16, 24, kernel_size=3, padding=1)\n",
    "        self.branch3x3_3 = torch.nn.Conv2d(24, 24, kernel_size=3, padding=1)\n",
    "\n",
    "        # 平均池化 -> 1x1卷积分支\n",
    "        self.branch_pool = torch.nn.Conv2d(in_channels, 24, kernel_size=1)\n",
    "\n",
    "    def forward(self, x):\n",
    "        \"\"\"\n",
    "        定义InceptionA模块的前向传播过程。\n",
    "        \n",
    "        参数:\n",
    "        - x: 输入图像的数据张量\n",
    "        \n",
    "        返回:\n",
    "        - 经过不同分支处理后，通道数拼接后的图像数据张量。\n",
    "        \"\"\"\n",
    "        # 1x1卷积分支的处理\n",
    "        branch1x1 = self.branch1x1(x)\n",
    "\n",
    "        # 5x5卷积分支的处理\n",
    "        branch5x5 = self.branch5x5_1(x)\n",
    "        branch5x5 = self.branch5x5_2(branch5x5)\n",
    "\n",
    "        # 3x3卷积分支的处理\n",
    "        branch3x3 = self.branch3x3_1(x)\n",
    "        branch3x3 = self.branch3x3_2(branch3x3)\n",
    "        branch3x3 = self.branch3x3_3(branch3x3)\n",
    "\n",
    "        # 平均池化分支的处理\n",
    "        branch_pool = F.avg_pool2d(x, kernel_size=3, stride=1, padding=1)\n",
    "        branch_pool = self.branch_pool(branch_pool)\n",
    "\n",
    "        # 将不同分支的处理结果按通道数拼接起来\n",
    "        outputs = [branch1x1, branch5x5, branch3x3, branch_pool]\n",
    "        return torch.cat(outputs, 1)\n",
    "    \n",
    "class Net(torch.nn.Module):\n",
    "    \"\"\"\n",
    "    定义一个包含InceptionA模块的网络结构。\n",
    "    \n",
    "    方法:\n",
    "    - forward: 前向传播方法\n",
    "    \"\"\"\n",
    "    def __init__(self):\n",
    "        \"\"\"\n",
    "        初始化网络结构。\n",
    "        \"\"\"\n",
    "        super().__init__()\n",
    "        # 第一层卷积\n",
    "        self.conv1 = torch.nn.Conv2d(1, 10, 5)\n",
    "        # 第二层卷积\n",
    "        self.conv2 = torch.nn.Conv2d(88, 20, 5)\n",
    "\n",
    "        # 第一个InceptionA模块\n",
    "        self.incep1 = InceptionA(10)\n",
    "        # 第二个InceptionA模块\n",
    "        self.incep2 = InceptionA(20)\n",
    "\n",
    "        # 最大池化层\n",
    "        self.mp = torch.nn.MaxPool2d(2)\n",
    "        # 全连接层\n",
    "        self.fc = torch.nn.Linear(1408, 10)\n",
    "\n",
    "    def forward(self, x):\n",
    "        \"\"\"\n",
    "        定义网络的前向传播过程。\n",
    "        \n",
    "        参数:\n",
    "        - x: 输入图像的数据张量\n",
    "        \n",
    "        返回:\n",
    "        - 网络的预测结果。\n",
    "        \"\"\"\n",
    "        in_size = x.size(0)\n",
    "        # 第一层卷积和池化\n",
    "        x = F.relu(self.mp(self.conv1(x)))\n",
    "        # 第一个InceptionA模块\n",
    "        x = self.incep1(x)\n",
    "        # 第二层卷积和池化\n",
    "        x = F.relu(self.mp(self.conv2(x)))\n",
    "        # 第二个InceptionA模块\n",
    "        x = self.incep2(x)\n",
    "        # 展平向量\n",
    "        x = x.view(in_size, -1)\n",
    "        # 全连接层\n",
    "        x = self.fc(x)\n",
    "        return x\n",
    "\n",
    "model = Net()"
   ]
  },
  {
   "cell_type": "markdown",
   "metadata": {},
   "source": [
    "### Step-3 Define Loss and Optimizer"
   ]
  },
  {
   "cell_type": "code",
   "execution_count": 4,
   "metadata": {},
   "outputs": [],
   "source": [
    "# 初始化损失函数\n",
    "# torch.nn.CrossEntropyLoss()：交叉熵损失函数，常用于多分类任务的损失计算。该函数输入为模型预测的概率分布和真实标签，\n",
    "# 输出为模型预测与真实标签之间的损失值。\n",
    "criterion = torch.nn.CrossEntropyLoss()\n",
    "\n",
    "# 初始化优化器\n",
    "# torch.optim.SGD：随机梯度下降法（Stochastic Gradient Descent）优化器，是深度学习中最常用的优化器之一。\n",
    "# 参数model.parameters()指定了需要优化的模型参数；\n",
    "# lr=0.01：学习率，控制参数更新的速度；\n",
    "# momentum=0.5：动量参数，用于加速梯度下降过程，减少收敛过程中的振荡。\n",
    "optimizer = torch.optim.SGD(model.parameters(), lr=0.01, momentum=0.5)"
   ]
  },
  {
   "cell_type": "markdown",
   "metadata": {},
   "source": [
    "### Step-4 Train the Model"
   ]
  },
  {
   "cell_type": "code",
   "execution_count": 5,
   "metadata": {},
   "outputs": [],
   "source": [
    "# 根据是否支持CUDA，选择使用GPU或CPU设备\n",
    "device = torch.device(\"cuda\" if torch.cuda.is_available() else \"cpu\")\n",
    "model.to(device)\n",
    "\n",
    "def train(epoch: int):\n",
    "    \"\"\"\n",
    "    对模型进行训练。\n",
    "    \n",
    "    参数:\n",
    "    - epoch: int, 当前的训练周期。\n",
    "    \n",
    "    无返回值。\n",
    "    \"\"\"\n",
    "    running_loss = 0.0  # 记录当前批次的损失总和\n",
    "    for batch_idx, (inputs, target) in enumerate(train_loader):\n",
    "        inputs, target = inputs.to(device), target.to(device)  # 将数据移动到指定设备\n",
    "        optimizer.zero_grad()  # 清除上一次的梯度\n",
    "\n",
    "        outputs = model(inputs)  # 通过模型获取输出\n",
    "        loss = criterion(outputs, target)  # 计算损失\n",
    "        loss.backward()  # 反向传播计算梯度\n",
    "        optimizer.step()  # 更新模型参数\n",
    "\n",
    "        running_loss += loss.item()  # 累加当前批次损失\n",
    "        if batch_idx % 100 == 99:  # 每100个批次打印一次损失\n",
    "            print(f'[{epoch + 1}, {batch_idx + 1:5d}] loss: {running_loss / 100:.3f}')\n",
    "            running_loss = 0.0  # 重置累积损失\n",
    "\n",
    "def test():\n",
    "    \"\"\"\n",
    "    对模型进行测试，并计算在测试集上的准确率。\n",
    "    \n",
    "    返回值:\n",
    "    - float, 测试集上的准确率。\n",
    "    \"\"\"\n",
    "    correct = 0  # 记录正确预测的数量\n",
    "    total = 0  # 记录总预测数量\n",
    "    with torch.no_grad():  # 不计算梯度，以节省内存\n",
    "        for (images, labels) in test_loader:\n",
    "            images, labels = images.to(device), labels.to(device)  # 将数据移动到指定设备\n",
    "            outputs = model(images)  # 通过模型获取输出\n",
    "            _, predicted = torch.max(outputs.data, 1)  # 找出预测的类别\n",
    "            total += labels.size(0)  # 累加总样本数\n",
    "            correct += (predicted == labels).sum().item()  # 累加正确预测的数量\n",
    "    print(f'Accuracy on test set: {100 * correct / total: .4f}%')\n",
    "    return 100 * correct / total  # 返回准确率"
   ]
  },
  {
   "cell_type": "code",
   "execution_count": 6,
   "metadata": {},
   "outputs": [
    {
     "name": "stdout",
     "output_type": "stream",
     "text": [
      "[1,   100] loss: 1.901\n",
      "[1,   200] loss: 0.582\n",
      "[1,   300] loss: 0.380\n",
      "[1,   400] loss: 0.314\n",
      "[1,   500] loss: 0.267\n",
      "[1,   600] loss: 0.235\n",
      "[1,   700] loss: 0.188\n",
      "[1,   800] loss: 0.175\n",
      "[1,   900] loss: 0.144\n",
      "Accuracy on test set:  96.1500%\n",
      "[2,   100] loss: 0.135\n",
      "[2,   200] loss: 0.120\n",
      "[2,   300] loss: 0.115\n",
      "[2,   400] loss: 0.120\n",
      "[2,   500] loss: 0.097\n",
      "[2,   600] loss: 0.118\n",
      "[2,   700] loss: 0.103\n",
      "[2,   800] loss: 0.093\n",
      "[2,   900] loss: 0.090\n",
      "Accuracy on test set:  97.5200%\n",
      "[3,   100] loss: 0.086\n",
      "[3,   200] loss: 0.082\n",
      "[3,   300] loss: 0.090\n",
      "[3,   400] loss: 0.082\n",
      "[3,   500] loss: 0.073\n",
      "[3,   600] loss: 0.080\n",
      "[3,   700] loss: 0.079\n",
      "[3,   800] loss: 0.070\n",
      "[3,   900] loss: 0.063\n",
      "Accuracy on test set:  98.0000%\n",
      "[4,   100] loss: 0.064\n",
      "[4,   200] loss: 0.067\n",
      "[4,   300] loss: 0.070\n",
      "[4,   400] loss: 0.068\n",
      "[4,   500] loss: 0.056\n",
      "[4,   600] loss: 0.065\n",
      "[4,   700] loss: 0.067\n",
      "[4,   800] loss: 0.067\n",
      "[4,   900] loss: 0.065\n",
      "Accuracy on test set:  98.5400%\n",
      "[5,   100] loss: 0.055\n",
      "[5,   200] loss: 0.063\n",
      "[5,   300] loss: 0.062\n",
      "[5,   400] loss: 0.052\n",
      "[5,   500] loss: 0.056\n",
      "[5,   600] loss: 0.049\n",
      "[5,   700] loss: 0.052\n",
      "[5,   800] loss: 0.062\n",
      "[5,   900] loss: 0.053\n",
      "Accuracy on test set:  98.5200%\n",
      "[6,   100] loss: 0.048\n",
      "[6,   200] loss: 0.049\n",
      "[6,   300] loss: 0.055\n",
      "[6,   400] loss: 0.054\n",
      "[6,   500] loss: 0.059\n",
      "[6,   600] loss: 0.052\n",
      "[6,   700] loss: 0.041\n",
      "[6,   800] loss: 0.042\n",
      "[6,   900] loss: 0.051\n",
      "Accuracy on test set:  98.5800%\n",
      "[7,   100] loss: 0.042\n",
      "[7,   200] loss: 0.043\n",
      "[7,   300] loss: 0.042\n",
      "[7,   400] loss: 0.048\n",
      "[7,   500] loss: 0.046\n",
      "[7,   600] loss: 0.046\n",
      "[7,   700] loss: 0.049\n",
      "[7,   800] loss: 0.043\n",
      "[7,   900] loss: 0.047\n",
      "Accuracy on test set:  98.5300%\n",
      "[8,   100] loss: 0.048\n",
      "[8,   200] loss: 0.043\n",
      "[8,   300] loss: 0.040\n",
      "[8,   400] loss: 0.039\n",
      "[8,   500] loss: 0.039\n",
      "[8,   600] loss: 0.041\n",
      "[8,   700] loss: 0.038\n",
      "[8,   800] loss: 0.040\n",
      "[8,   900] loss: 0.046\n",
      "Accuracy on test set:  98.5800%\n",
      "[9,   100] loss: 0.039\n",
      "[9,   200] loss: 0.040\n",
      "[9,   300] loss: 0.033\n",
      "[9,   400] loss: 0.033\n",
      "[9,   500] loss: 0.045\n",
      "[9,   600] loss: 0.039\n",
      "[9,   700] loss: 0.042\n",
      "[9,   800] loss: 0.033\n",
      "[9,   900] loss: 0.038\n",
      "Accuracy on test set:  98.6000%\n",
      "[10,   100] loss: 0.038\n",
      "[10,   200] loss: 0.030\n",
      "[10,   300] loss: 0.031\n",
      "[10,   400] loss: 0.032\n",
      "[10,   500] loss: 0.042\n",
      "[10,   600] loss: 0.038\n",
      "[10,   700] loss: 0.036\n",
      "[10,   800] loss: 0.040\n",
      "[10,   900] loss: 0.028\n",
      "Accuracy on test set:  98.6300%\n"
     ]
    },
    {
     "data": {
      "image/png": "[encoded data removed]",
      "text/plain": [
       "<Figure size 640x480 with 1 Axes>"
      ]
     },
     "metadata": {},
     "output_type": "display_data"
    }
   ],
   "source": [
    "epochs = []\n",
    "accuracies = []\n",
    "\n",
    "if __name__ == '__main__':\n",
    "    for epoch in range(10):\n",
    "        train(epoch)\n",
    "        epochs.append(epoch + 1)\n",
    "        accuracies.append(test())\n",
    "    plt.plot(epochs, accuracies)\n",
    "    plt.xlabel('Epochs')\n",
    "    plt.ylabel('Accuracy')"
   ]
  },
  {
   "cell_type": "markdown",
   "metadata": {},
   "source": [
    "### 检测模型"
   ]
  },
  {
   "cell_type": "code",
   "execution_count": 21,
   "metadata": {},
   "outputs": [],
   "source": [
    "def test_model(model, test_dir, device):\n",
    "    # Define the transformation for the test images\n",
    "    transform = transforms.Compose([\n",
    "        transforms.ToTensor(),\n",
    "        transforms.Normalize((0.1307,), (0.3081,))  # Mean and std for MNIST dataset\n",
    "    ])\n",
    "\n",
    "    # Create a directory iterator for the test images\n",
    "    test_images = os.listdir(test_dir)\n",
    "\n",
    "    # Set the model to evaluation mode\n",
    "    model.eval()\n",
    "\n",
    "    # Iterate over the test images\n",
    "    for image_name in test_images:\n",
    "        image_path = os.path.join(test_dir, image_name)\n",
    "        image = Image.open(image_path).convert('L')  # Convert to grayscale\n",
    "\n",
    "        # Apply the transformation\n",
    "        image_tensor = transform(image).unsqueeze(0)  # Add a batch dimension\n",
    "\n",
    "        # Move the input tensor to the device\n",
    "        image_tensor = image_tensor.to(device)\n",
    "\n",
    "        # Forward pass\n",
    "        with torch.no_grad():\n",
    "            output = model(image_tensor)\n",
    "            _, predicted = torch.max(output.data, 1)\n",
    "\n",
    "        # Display the image and predicted value\n",
    "        plt.imshow(image, cmap='gray')\n",
    "        plt.title(f'Predicted: {predicted.item()}')\n",
    "        plt.show()"
   ]
  },
  {
   "cell_type": "code",
   "execution_count": 24,
   "metadata": {},
   "outputs": [
    {
     "data": {
      "image/png": "[encoded data removed]",
      "text/plain": [
       "<Figure size 640x480 with 1 Axes>"
      ]
     },
     "metadata": {},
     "output_type": "display_data"
    },
    {
     "data": {
      "image/png": "[encoded data removed]",
      "text/plain": [
       "<Figure size 640x480 with 1 Axes>"
      ]
     },
     "metadata": {},
     "output_type": "display_data"
    },
    {
     "data": {
      "image/png": "[encoded data removed]",
      "text/plain": [
       "<Figure size 640x480 with 1 Axes>"
      ]
     },
     "metadata": {},
     "output_type": "display_data"
    },
    {
     "data": {
      "image/png": "[encoded data removed]",
      "text/plain": [
       "<Figure size 640x480 with 1 Axes>"
      ]
     },
     "metadata": {},
     "output_type": "display_data"
    },
    {
     "data": {
      "image/png": "[encoded data removed]",
      "text/plain": [
       "<Figure size 640x480 with 1 Axes>"
      ]
     },
     "metadata": {},
     "output_type": "display_data"
    }
   ],
   "source": [
    "test_model(model, './test/mnist', device)"
   ]
  }
 ],
 "metadata": {
  "kernelspec": {
   "display_name": "vpteam",
   "language": "python",
   "name": "python3"
  },
  "language_info": {
   "codemirror_mode": {
    "name": "ipython",
    "version": 3
   },
   "file_extension": ".py",
   "mimetype": "text/x-python",
   "name": "python",
   "nbconvert_exporter": "python",
   "pygments_lexer": "ipython3",
   "version": "3.8.19"
  }
 },
 "nbformat": 4,
 "nbformat_minor": 2
}
